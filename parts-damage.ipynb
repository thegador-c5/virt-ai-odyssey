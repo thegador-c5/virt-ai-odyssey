{
 "cells": [
  {
   "cell_type": "code",
   "execution_count": null,
   "id": "a494c89c-8012-47ab-a921-62992ae7250a",
   "metadata": {
    "tags": []
   },
   "outputs": [],
   "source": [
    "pip install roboflow"
   ]
  },
  {
   "cell_type": "code",
   "execution_count": null,
   "id": "54802de2-955a-4557-b556-3a3b8661ca08",
   "metadata": {},
   "outputs": [],
   "source": [
    "pip install supervision"
   ]
  },
  {
   "cell_type": "code",
   "execution_count": null,
   "id": "15384ca5-8652-402b-a112-cb0aad63e316",
   "metadata": {},
   "outputs": [],
   "source": [
    "pip install opencv-python"
   ]
  },
  {
   "cell_type": "code",
   "execution_count": null,
   "id": "3decd3bb-bff9-44b0-95e2-cf0f7884acb6",
   "metadata": {
    "tags": []
   },
   "outputs": [],
   "source": [
    "from PIL import Image"
   ]
  },
  {
   "cell_type": "code",
   "execution_count": null,
   "id": "baf822d8-795f-408f-a176-c49d169e230e",
   "metadata": {
    "tags": []
   },
   "outputs": [],
   "source": [
    "from roboflow import Roboflow\n",
    "import supervision as sv\n",
    "import cv2\n",
    "import tempfile\n",
    "import os"
   ]
  },
  {
   "cell_type": "code",
   "execution_count": null,
   "id": "5fd15fb8-d990-4459-8044-928a994804d6",
   "metadata": {},
   "outputs": [],
   "source": [
    "# Load the Roboflow API and authenticate with your API key\n",
    "rf = Roboflow(api_key=\"l3VppnppccFDHOcbFqRQ\")"
   ]
  },
  {
   "cell_type": "code",
   "execution_count": null,
   "id": "b26b465a-2ba5-437c-8cfe-2f95092bf1a2",
   "metadata": {},
   "outputs": [],
   "source": [
    "# Load the project for identifying parts of the car\n",
    "project_parts = rf.workspace().project(\"car-parts-segmentation\")\n",
    "model_parts = project_parts.version(2).model"
   ]
  },
  {
   "cell_type": "code",
   "execution_count": null,
   "id": "da5ff568-1400-4e44-83e5-a50a15912ddf",
   "metadata": {},
   "outputs": [],
   "source": [
    "# Load the project for detecting damaged areas of the car\n",
    "project_damage = rf.workspace().project(\"car-damage-detection-ha5mm\")\n",
    "model_damage = project_damage.version(1).model"
   ]
  },
  {
   "cell_type": "code",
   "execution_count": null,
   "id": "c1b07899-30dc-48f5-a717-91bd46e9b980",
   "metadata": {},
   "outputs": [],
   "source": [
    "# Path to the input image\n",
    "img_path = \"/home/thegador/Data/technical/Openshift-AI-Roadshow/images/Ford-Expedition.jpg\""
   ]
  },
  {
   "cell_type": "code",
   "execution_count": null,
   "id": "c8859245-83e0-4224-8077-934d8df2aba1",
   "metadata": {},
   "outputs": [],
   "source": [
    "# Run the models on the input image\n",
    "result_damage = model_damage.predict(img_path, confidence=40).json()"
   ]
  },
  {
   "cell_type": "code",
   "execution_count": null,
   "id": "3f0bf5ff-8816-4bc2-ab9b-bfb942085d27",
   "metadata": {},
   "outputs": [],
   "source": [
    "# Extract labels and detections from the results\n",
    "labels_damage = [item[\"class\"] for item in result_damage[\"predictions\"]]\n",
    "detections_damage = sv.Detections.from_inference(result_damage)"
   ]
  },
  {
   "cell_type": "code",
   "execution_count": null,
   "id": "ba905a94-5329-4b8e-a27a-f051a9de9766",
   "metadata": {},
   "outputs": [],
   "source": [
    "# Extract coordinates of the damaged area\n",
    "coordinates = []\n",
    "for List_Coordinates in detections_damage.xyxy:\n",
    "    for item in List_Coordinates:\n",
    "        item = int(item)  # Convert to integer\n",
    "        coordinates.append(item)"
   ]
  },
  {
   "cell_type": "code",
   "execution_count": null,
   "id": "229ca4cc-fb4a-4591-85cd-fea182135ae3",
   "metadata": {},
   "outputs": [],
   "source": [
    "# Unpack coordinates\n",
    "x1, y1, x2, y2 = coordinates"
   ]
  },
  {
   "cell_type": "code",
   "execution_count": null,
   "id": "4595dcf1-18d7-4ffd-a2f3-b442a4ca180a",
   "metadata": {},
   "outputs": [],
   "source": [
    "# Initialize label and mask annotators\n",
    "label_annotator = sv.LabelAnnotator(text_scale=0.15)\n",
    "mask_annotator = sv.MaskAnnotator()"
   ]
  },
  {
   "cell_type": "code",
   "execution_count": null,
   "id": "5e4c2f9e-d01a-47c1-9363-218005a68b0e",
   "metadata": {},
   "outputs": [],
   "source": [
    "# Read the input image\n",
    "image = cv2.imread(img_path)"
   ]
  },
  {
   "cell_type": "code",
   "execution_count": null,
   "id": "93ba87a1-3b88-4a57-84f6-c104fa8a4a44",
   "metadata": {},
   "outputs": [],
   "source": [
    "# Annotate damaged areas of the car\n",
    "annotated_image_damage = mask_annotator.annotate(\n",
    "    scene=image, detections=detections_damage)"
   ]
  },
  {
   "cell_type": "code",
   "execution_count": null,
   "id": "7c4328e3-1bd7-4a55-bba6-ce558892293e",
   "metadata": {},
   "outputs": [],
   "source": [
    "# Display the annotated damaged areas image\n",
    "sv.plot_image(image=annotated_image_damage, size=(10, 10))"
   ]
  },
  {
   "cell_type": "code",
   "execution_count": null,
   "id": "7f6773e0-a59c-4cb7-90b8-c39f489cf178",
   "metadata": {},
   "outputs": [],
   "source": [
    "# Crop the damaged area from the original image\n",
    "annotated_image_damage = annotated_image_damage[y1:y2, x1:x2]"
   ]
  },
  {
   "cell_type": "code",
   "execution_count": null,
   "id": "7d38afb6-cfcc-4e31-9d3e-44394b7b6bf3",
   "metadata": {},
   "outputs": [],
   "source": [
    "# Create a temporary directory and save the cropped damaged area\n",
    "temp_dir = tempfile.mkdtemp()\n",
    "damage_detect_img = os.path.join(temp_dir, \"damage_image.png\")\n",
    "cv2.imwrite(damage_detect_img, annotated_image_damage)"
   ]
  },
  {
   "cell_type": "code",
   "execution_count": null,
   "id": "154becac-d725-4d84-aadc-d08872b9f58e",
   "metadata": {},
   "outputs": [],
   "source": [
    "# Run the parts detection model on the cropped damaged area\n",
    "result_parts = model_parts.predict(damage_detect_img, confidence=15).json()\n",
    "labels_parts = [item[\"class\"] for item in result_parts[\"predictions\"]]\n",
    "detections_parts = sv.Detections.from_inference(result_parts)"
   ]
  },
  {
   "cell_type": "code",
   "execution_count": null,
   "id": "6b8536a6-6c7a-40d9-a059-bb584f38a9fc",
   "metadata": {},
   "outputs": [],
   "source": [
    "# Print the parts of the car with probable damages\n",
    "print(\"The parts of the car with probable damages are:\")\n",
    "for label in labels_parts:\n",
    "    print(label)\n"
   ]
  },
  {
   "cell_type": "code",
   "execution_count": null,
   "id": "bd112e69-eb1a-4077-81d1-de3ee4871987",
   "metadata": {
    "tags": []
   },
   "outputs": [],
   "source": [
    "# Remove the temporary files\n",
    "os.remove(damage_detect_img)\n",
    "os.rmdir(temp_dir)"
   ]
  }
 ],
 "metadata": {
  "kernelspec": {
   "display_name": "Python 3.9",
   "language": "python",
   "name": "python3"
  },
  "language_info": {
   "codemirror_mode": {
    "name": "ipython",
    "version": 3
   },
   "file_extension": ".py",
   "mimetype": "text/x-python",
   "name": "python",
   "nbconvert_exporter": "python",
   "pygments_lexer": "ipython3",
   "version": "3.9.16"
  }
 },
 "nbformat": 4,
 "nbformat_minor": 5
}
