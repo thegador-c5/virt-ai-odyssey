{
 "cells": [
  {
   "cell_type": "code",
   "execution_count": null,
   "id": "6c14c21f-559e-4c95-b82f-e62a3be78d9c",
   "metadata": {
    "tags": []
   },
   "outputs": [],
   "source": [
    "import requests"
   ]
  },
  {
   "cell_type": "code",
   "execution_count": null,
   "id": "2574b40a-3456-4d5b-a502-2915269a0f58",
   "metadata": {
    "tags": []
   },
   "outputs": [],
   "source": [
    "#url = 'http://modelmesh-serving.fraud-detection:8008'"
   ]
  },
  {
   "cell_type": "code",
   "execution_count": null,
   "id": "979d02cc-8417-484b-9553-a24b56fcf4d6",
   "metadata": {
    "tags": []
   },
   "outputs": [],
   "source": [
    "deployed_model_name = \"img-det\"\n",
    "#rest_url = \"https://ocr-fraud-detection.apps.cluster-p4bkf.p4bkf.sandbox108.opentlc.com/v2/models/ocr/infer\"\n",
    "#infer_url = f\"{rest_url}/v2/models/{deployed_model_name}/infer\"\n",
    "infer_url = \"https://img-det-ic-shared-img-det.apps.cluster-wsrhn.wsrhn.sandbox590.opentlc.com/v2/models/img-det\""
   ]
  },
  {
   "cell_type": "code",
   "execution_count": null,
   "id": "6e61c806-7bf4-4cc1-9b8a-317665e9d2b5",
   "metadata": {
    "tags": []
   },
   "outputs": [],
   "source": [
    "files = {'image': open('images/ocr-image-1.jpg', 'rb')}"
   ]
  },
  {
   "cell_type": "code",
   "execution_count": null,
   "id": "2de6338f-e7c7-41ba-ae2e-b704d0e0b2ba",
   "metadata": {
    "tags": []
   },
   "outputs": [],
   "source": [
    "response_get = requests.get(infer_url, files=files)"
   ]
  },
  {
   "cell_type": "code",
   "execution_count": null,
   "id": "3b7a20e8-9032-49df-933e-6d518a1a31ce",
   "metadata": {
    "tags": []
   },
   "outputs": [],
   "source": [
    "print(response_get)"
   ]
  },
  {
   "cell_type": "code",
   "execution_count": null,
   "id": "c7aadfb3-6844-478e-8dd2-5e68b47e3ae0",
   "metadata": {
    "tags": []
   },
   "outputs": [],
   "source": [
    "print(response_get.json())"
   ]
  },
  {
   "cell_type": "code",
   "execution_count": null,
   "id": "6045e64e-2fff-4bbb-8f9c-3bbd975ddb1f",
   "metadata": {
    "tags": []
   },
   "outputs": [],
   "source": [
    "response_post = requests.post(infer_url, files=files)"
   ]
  },
  {
   "cell_type": "code",
   "execution_count": null,
   "id": "31198d4a-38e5-4909-bf0f-4cb7204945e2",
   "metadata": {
    "tags": []
   },
   "outputs": [],
   "source": [
    "print(response_post)"
   ]
  },
  {
   "cell_type": "code",
   "execution_count": null,
   "id": "8ff93d8a-bd57-44e8-b586-cac2536725c0",
   "metadata": {
    "tags": []
   },
   "outputs": [],
   "source": [
    "print(response_post.json())"
   ]
  }
 ],
 "metadata": {
  "kernelspec": {
   "display_name": "Python 3.9",
   "language": "python",
   "name": "python3"
  },
  "language_info": {
   "codemirror_mode": {
    "name": "ipython",
    "version": 3
   },
   "file_extension": ".py",
   "mimetype": "text/x-python",
   "name": "python",
   "nbconvert_exporter": "python",
   "pygments_lexer": "ipython3",
   "version": "3.9.16"
  }
 },
 "nbformat": 4,
 "nbformat_minor": 5
}
