{
 "cells": [
  {
   "cell_type": "code",
   "execution_count": null,
   "id": "d1eaef65-7fa6-44f7-b2aa-307338f8c7f5",
   "metadata": {
    "tags": []
   },
   "outputs": [],
   "source": [
    "pip install --upgrade pip"
   ]
  },
  {
   "cell_type": "code",
   "execution_count": null,
   "id": "3fe91c41-1a8b-4268-8967-96a9ab707038",
   "metadata": {
    "tags": []
   },
   "outputs": [],
   "source": [
    "pip install inference"
   ]
  },
  {
   "cell_type": "code",
   "execution_count": null,
   "id": "4e658215-5b00-4c25-b8fa-9ae6f4eec6fc",
   "metadata": {
    "tags": []
   },
   "outputs": [],
   "source": [
    "from inference_sdk import InferenceHTTPClient\n",
    "from PIL import Image"
   ]
  },
  {
   "cell_type": "code",
   "execution_count": null,
   "id": "7ce0838b-8878-414f-ac3d-38a4af7bffd5",
   "metadata": {
    "tags": []
   },
   "outputs": [],
   "source": [
    "CLIENT = InferenceHTTPClient(\n",
    "    api_url=\"https://detect.roboflow.com\",\n",
    "    api_key=\"your-api-key-here\"\n",
    ")"
   ]
  },
  {
   "cell_type": "code",
   "execution_count": null,
   "id": "29670133-ccb6-4a28-8ba8-9ad81cefb307",
   "metadata": {
    "tags": []
   },
   "outputs": [],
   "source": [
    "result = CLIENT.infer(\"images/License-plate-1.jpg\", model_id=\"carplate-xuk6s/1\")"
   ]
  },
  {
   "cell_type": "code",
   "execution_count": null,
   "id": "6f84483e-71c2-44a7-85c7-632ce378ca3f",
   "metadata": {
    "tags": []
   },
   "outputs": [],
   "source": [
    "# Display the image\n",
    "Image.open(\"images/ocr-image-1.jpg\")"
   ]
  },
  {
   "cell_type": "code",
   "execution_count": null,
   "id": "02b15f1a-88bc-4f8f-8b79-7dfa68d38817",
   "metadata": {
    "tags": []
   },
   "outputs": [],
   "source": [
    "print(result)"
   ]
  }
 ],
 "metadata": {
  "kernelspec": {
   "display_name": "Python 3.9",
   "language": "python",
   "name": "python3"
  },
  "language_info": {
   "codemirror_mode": {
    "name": "ipython",
    "version": 3
   },
   "file_extension": ".py",
   "mimetype": "text/x-python",
   "name": "python",
   "nbconvert_exporter": "python",
   "pygments_lexer": "ipython3",
   "version": "3.9.18"
  }
 },
 "nbformat": 4,
 "nbformat_minor": 5
}
