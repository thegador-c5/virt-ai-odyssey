{
 "cells": [
  {
   "cell_type": "markdown",
   "id": "940ebd28-b323-4a66-90a3-2a25097fb56c",
   "metadata": {},
   "source": [
    "See the following link for more detailed documentation:\n",
    "https://blog.roboflow.com/how-to-use-easyocr/ \n",
    "\n",
    "EasyOCR is a Python package for detecting and extracting text from images such as photos or scanned documents. \n",
    "\n",
    "To get started, install all the necessary libraries required. We will be installing the PyTorch library (which is a core dependency) and the EasyOCR library, using the ‘pip’ package installer."
   ]
  },
  {
   "cell_type": "code",
   "execution_count": null,
   "id": "9cfd1beb-e807-4a9c-a7a5-a172b4933fb6",
   "metadata": {},
   "outputs": [],
   "source": [
    "pip install torch torchvision torchaudio easyocr"
   ]
  },
  {
   "cell_type": "markdown",
   "id": "4afc483e-b7f7-4751-9626-60a747436863",
   "metadata": {},
   "source": [
    "Setup to display images by importing the Image package"
   ]
  },
  {
   "cell_type": "code",
   "execution_count": null,
   "id": "a2845f85-e205-4b15-9c9c-cda9b5ac2f41",
   "metadata": {
    "tags": []
   },
   "outputs": [],
   "source": [
    "from PIL import Image"
   ]
  },
  {
   "cell_type": "markdown",
   "id": "d37b5c03-4485-489d-92da-80d136d16851",
   "metadata": {
    "tags": []
   },
   "source": [
    "Ensure that we know what the current working directory is and change if necessary to find the necessary resources for this example."
   ]
  },
  {
   "cell_type": "code",
   "execution_count": null,
   "id": "f390f859-abc4-4e66-b7ab-a6d62129f550",
   "metadata": {
    "tags": []
   },
   "outputs": [],
   "source": [
    "import os"
   ]
  },
  {
   "cell_type": "code",
   "execution_count": null,
   "id": "52a5617f-164d-4ce2-a290-c7551b984576",
   "metadata": {},
   "outputs": [],
   "source": [
    "dir = os.getcwd()"
   ]
  },
  {
   "cell_type": "code",
   "execution_count": null,
   "id": "e4ac0a3e-2201-4061-b073-f4b8aa3baa66",
   "metadata": {},
   "outputs": [],
   "source": [
    "print(dir)"
   ]
  },
  {
   "cell_type": "code",
   "execution_count": null,
   "id": "61aad0d4-9862-4003-89c6-2831ed8eeb57",
   "metadata": {
    "tags": []
   },
   "outputs": [],
   "source": [
    "os.chdir(\"/opt/app-root/src/virt-ai-odyssey/ocr\")"
   ]
  },
  {
   "cell_type": "code",
   "execution_count": null,
   "id": "804bc389-aeae-4e14-bbe0-e70befe9d38c",
   "metadata": {
    "tags": []
   },
   "outputs": [],
   "source": [
    "print(os.getcwd())"
   ]
  },
  {
   "cell_type": "markdown",
   "id": "dbb0747c-4c3f-4927-ae00-2ab5b2887ebb",
   "metadata": {},
   "source": [
    "Import the EasyOCR package and initialize its ‘reader’ function. We can also select the language we want to detect and extract. There are over 80 languages to choose from. For this example, let’s choose English as ‘en.’ "
   ]
  },
  {
   "cell_type": "code",
   "execution_count": null,
   "id": "f711c65d-8c67-4ec5-afcb-dd267615b1e1",
   "metadata": {},
   "outputs": [],
   "source": [
    "import easyocr"
   ]
  },
  {
   "cell_type": "code",
   "execution_count": null,
   "id": "e2ce348e-2c39-40e4-935e-0e72df7d4626",
   "metadata": {
    "tags": []
   },
   "outputs": [],
   "source": [
    "reader = easyocr.Reader(['en'],model_storage_directory='/opt/app-root/src/virt-ai-odyssey/ocr/models')"
   ]
  },
  {
   "cell_type": "code",
   "execution_count": null,
   "id": "d567c722-5ad2-4d36-b0c9-fce2176136c3",
   "metadata": {
    "tags": []
   },
   "outputs": [],
   "source": [
    "result = reader.readtext('/opt/app-root/src/virt-ai-odyssey/ocr/images/ocr-image-1.jpg',detail=0)"
   ]
  },
  {
   "cell_type": "code",
   "execution_count": null,
   "id": "17926ff9-fd2d-4b81-9c57-9eac186dbb97",
   "metadata": {
    "tags": []
   },
   "outputs": [],
   "source": [
    "# Display the image\n",
    "Image.open(\"images/ocr-image-1.jpg\")"
   ]
  },
  {
   "cell_type": "code",
   "execution_count": null,
   "id": "86778970-b387-4873-af32-2a8f60b22b67",
   "metadata": {
    "tags": []
   },
   "outputs": [],
   "source": [
    "# Print the text found in the image\n",
    "print(result)"
   ]
  },
  {
   "cell_type": "code",
   "execution_count": null,
   "id": "8d542e7b-df4a-47c4-a08f-658587e9aa2b",
   "metadata": {
    "tags": []
   },
   "outputs": [],
   "source": [
    "result = reader.readtext('/opt/app-root/src/virt-ai-odyssey/ocr/images/ocr-image-2.jpg',detail=0)"
   ]
  },
  {
   "cell_type": "code",
   "execution_count": null,
   "id": "f95e4d15-f667-4b0c-9b22-934d0ce3d159",
   "metadata": {
    "tags": []
   },
   "outputs": [],
   "source": [
    "# Display the image\n",
    "Image.open(\"images/ocr-image-2.jpg\")"
   ]
  },
  {
   "cell_type": "code",
   "execution_count": null,
   "id": "16e4ef8b-1c90-452a-8197-1ae77a50a58d",
   "metadata": {
    "tags": []
   },
   "outputs": [],
   "source": [
    "print(result)"
   ]
  },
  {
   "cell_type": "code",
   "execution_count": null,
   "id": "c6ca102c-a449-40ed-a171-42467a3d7ec8",
   "metadata": {
    "tags": []
   },
   "outputs": [],
   "source": [
    "result = reader.readtext('/opt/app-root/src/virt-ai-odyssey/ocr/images/ocr-image-3.jpg',detail=0)"
   ]
  },
  {
   "cell_type": "code",
   "execution_count": null,
   "id": "93e318d0-c0e6-4862-80fc-a9c254b8c57f",
   "metadata": {
    "tags": []
   },
   "outputs": [],
   "source": [
    "# Display the image\n",
    "Image.open(\"images/ocr-image-3.jpg\")"
   ]
  },
  {
   "cell_type": "code",
   "execution_count": null,
   "id": "d15a7705-8da9-4c49-9d01-a3847bb86511",
   "metadata": {
    "tags": []
   },
   "outputs": [],
   "source": [
    "print(result)"
   ]
  },
  {
   "cell_type": "code",
   "execution_count": null,
   "id": "686e325c-c0c4-4449-9c87-28b2127c8558",
   "metadata": {
    "tags": []
   },
   "outputs": [],
   "source": [
    "result = reader.readtext('/opt/app-root/src/virt-ai-odyssey/ocr/images/License-plate-1.jpg',detail=0)"
   ]
  },
  {
   "cell_type": "code",
   "execution_count": null,
   "id": "8d401fa0-2595-4a3d-b24d-4cfea5941b06",
   "metadata": {
    "tags": []
   },
   "outputs": [],
   "source": [
    "# Display the image\n",
    "Image.open(\"images/License-plate-1.jpg\")"
   ]
  },
  {
   "cell_type": "code",
   "execution_count": null,
   "id": "b2e2bcf5-e2b6-4a54-979f-0cd2844bc68e",
   "metadata": {
    "tags": []
   },
   "outputs": [],
   "source": [
    "print(result)"
   ]
  },
  {
   "cell_type": "code",
   "execution_count": null,
   "id": "5761ca28-675e-48f4-81e0-a5d8111f5e06",
   "metadata": {
    "tags": []
   },
   "outputs": [],
   "source": [
    "result = reader.readtext('/opt/app-root/src/virt-ai-odyssey/ocr/images/License-plate-2.jpg',detail=0)"
   ]
  },
  {
   "cell_type": "code",
   "execution_count": null,
   "id": "50e0a79d-7488-4efc-91a0-7cb521fd8760",
   "metadata": {
    "tags": []
   },
   "outputs": [],
   "source": [
    "# Display the image\n",
    "Image.open(\"images/License-plate-2.jpg\")"
   ]
  },
  {
   "cell_type": "code",
   "execution_count": null,
   "id": "28afe3c3-5e1b-43be-beb3-39187a2f8ce9",
   "metadata": {
    "tags": []
   },
   "outputs": [],
   "source": [
    "print(result)"
   ]
  }
 ],
 "metadata": {
  "kernelspec": {
   "display_name": "Python 3.11",
   "language": "python",
   "name": "python3"
  },
  "language_info": {
   "codemirror_mode": {
    "name": "ipython",
    "version": 3
   },
   "file_extension": ".py",
   "mimetype": "text/x-python",
   "name": "python",
   "nbconvert_exporter": "python",
   "pygments_lexer": "ipython3",
   "version": "3.11.7"
  }
 },
 "nbformat": 4,
 "nbformat_minor": 5
}
