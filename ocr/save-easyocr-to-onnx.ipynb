{
 "cells": [
  {
   "cell_type": "code",
   "execution_count": null,
   "id": "b0ac5eb0-b685-4ff9-acdb-3a485b03e8ba",
   "metadata": {
    "tags": []
   },
   "outputs": [],
   "source": [
    "pip install torch torchvision easyocr"
   ]
  },
  {
   "cell_type": "code",
   "execution_count": null,
   "id": "76b2452b-043c-41b1-bc36-646050658097",
   "metadata": {
    "tags": []
   },
   "outputs": [],
   "source": [
    "import torch\n",
    "import easyocr\n",
    "import torch.onnx"
   ]
  },
  {
   "cell_type": "code",
   "execution_count": null,
   "id": "f86462ca-1528-468e-af10-c0e6bb91453a",
   "metadata": {},
   "outputs": [],
   "source": [
    "reader = easyocr.Reader(['en'])\n",
    "model = reader.detector\n",
    "#model = reader.detector.module\n",
    "print(model)\n"
   ]
  },
  {
   "cell_type": "code",
   "execution_count": null,
   "id": "8160ce6c-2d8d-4309-8800-e9339c719123",
   "metadata": {},
   "outputs": [],
   "source": [
    "model.eval()"
   ]
  },
  {
   "cell_type": "code",
   "execution_count": null,
   "id": "48dafd3a-cbd4-4ba9-9256-ac210ef0a606",
   "metadata": {},
   "outputs": [],
   "source": [
    "dummy_input = torch.randn(1, 3, 640, 640)  # Adjust dimensions as needed"
   ]
  },
  {
   "cell_type": "code",
   "execution_count": null,
   "id": "08e885d8-5d8d-4b29-a3eb-f30372024551",
   "metadata": {
    "tags": []
   },
   "outputs": [],
   "source": [
    "torch.onnx.export(model,\n",
    "                  dummy_input,\n",
    "                  \"models/easyocr_model.onnx\",\n",
    "                  export_params=True,\n",
    "                  opset_version=11,\n",
    "                  do_constant_folding=True,\n",
    "                  input_names=['input'],\n",
    "                  output_names=['output'],\n",
    "                  dynamic_axes={'input': {0: 'batch_size'},\n",
    "                                'output': {0: 'batch_size'}})"
   ]
  }
 ],
 "metadata": {
  "kernelspec": {
   "display_name": "Python 3.9",
   "language": "python",
   "name": "python3"
  },
  "language_info": {
   "codemirror_mode": {
    "name": "ipython",
    "version": 3
   },
   "file_extension": ".py",
   "mimetype": "text/x-python",
   "name": "python",
   "nbconvert_exporter": "python",
   "pygments_lexer": "ipython3",
   "version": "3.9.18"
  }
 },
 "nbformat": 4,
 "nbformat_minor": 5
}
